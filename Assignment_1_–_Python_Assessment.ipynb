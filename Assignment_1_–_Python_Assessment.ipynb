{
  "nbformat": 4,
  "nbformat_minor": 0,
  "metadata": {
    "colab": {
      "name": "Assignment 1 – Python Assessment.ipynb",
      "provenance": []
    },
    "kernelspec": {
      "name": "python3",
      "display_name": "Python 3"
    },
    "language_info": {
      "name": "python"
    }
  },
  "cells": [
    {
      "cell_type": "code",
      "source": [
        "!pip install xlsxwriter\n",
        "!python -m pip install --upgrade pip\n",
        "!python -m pip install --upgrade pymupdf"
      ],
      "metadata": {
        "colab": {
          "base_uri": "https://localhost:8080/"
        },
        "id": "zL5jGD4fFSMZ",
        "outputId": "e40bb378-d5ab-4f01-82e4-34151a6b61f1"
      },
      "execution_count": null,
      "outputs": [
        {
          "output_type": "stream",
          "name": "stdout",
          "text": [
            "Collecting xlsxwriter\n",
            "  Downloading XlsxWriter-3.0.3-py3-none-any.whl (149 kB)\n",
            "\u001b[?25l     \u001b[90m━━━━━━━━━━━━━━━━━━━━━━━━━━━━━━━━━━━━━━━━\u001b[0m \u001b[32m0.0/150.0 KB\u001b[0m \u001b[31m?\u001b[0m eta \u001b[36m-:--:--\u001b[0m\r\u001b[2K     \u001b[90m━━━━━━━━━━━━━━━━━━━━━━━━━━━━━━━━━━━━━━━\u001b[0m \u001b[32m150.0/150.0 KB\u001b[0m \u001b[31m5.5 MB/s\u001b[0m eta \u001b[36m0:00:00\u001b[0m\n",
            "\u001b[?25hInstalling collected packages: xlsxwriter\n",
            "Successfully installed xlsxwriter-3.0.3\n",
            "\u001b[33mWARNING: Running pip as the 'root' user can result in broken permissions and conflicting behaviour with the system package manager. It is recommended to use a virtual environment instead: https://pip.pypa.io/warnings/venv\u001b[0m\u001b[33m\n",
            "\u001b[0m"
          ]
        }
      ]
    },
    {
      "cell_type": "code",
      "source": [
        "import fitz\n",
        "print(fitz.__doc__)"
      ],
      "metadata": {
        "colab": {
          "base_uri": "https://localhost:8080/"
        },
        "id": "PVwisa0H2urT",
        "outputId": "8617feeb-d7e9-40dd-d309-9b0c23f8ce7a"
      },
      "execution_count": null,
      "outputs": [
        {
          "output_type": "stream",
          "name": "stdout",
          "text": [
            "\n",
            "PyMuPDF 1.19.6: Python bindings for the MuPDF 1.19.0 library.\n",
            "Version date: 2022-03-03 00:00:01.\n",
            "Built for Python 3.7 on linux (64-bit).\n",
            "\n"
          ]
        }
      ]
    },
    {
      "cell_type": "code",
      "source": [
        "filename = 'keppel-corporation-limited-annual-report-2018.pdf'\n",
        "doc = fitz.open(filename)"
      ],
      "metadata": {
        "id": "rzf-jKVG3m6s"
      },
      "execution_count": null,
      "outputs": []
    },
    {
      "cell_type": "code",
      "source": [
        "doc.page_count"
      ],
      "metadata": {
        "colab": {
          "base_uri": "https://localhost:8080/"
        },
        "id": "9NfPr05V371f",
        "outputId": "b4e56017-ea98-4dfc-feba-096ad549a371"
      },
      "execution_count": null,
      "outputs": [
        {
          "output_type": "execute_result",
          "data": {
            "text/plain": [
              "230"
            ]
          },
          "metadata": {},
          "execution_count": 4
        }
      ]
    },
    {
      "cell_type": "code",
      "source": [
        "page = doc[11] #for page number \"12\"\n",
        "pix = page.get_pixmap()"
      ],
      "metadata": {
        "id": "mPWFmxM-4Kv4"
      },
      "execution_count": null,
      "outputs": []
    },
    {
      "cell_type": "code",
      "source": [
        "pix.save(\"page-%i.png\" % page.number)"
      ],
      "metadata": {
        "id": "hw-UswtG6xA8"
      },
      "execution_count": null,
      "outputs": []
    },
    {
      "cell_type": "code",
      "source": [
        "text = page.get_text('blocks')"
      ],
      "metadata": {
        "id": "w6YugloY71Ng"
      },
      "execution_count": null,
      "outputs": []
    },
    {
      "cell_type": "code",
      "source": [
        "from operator import itemgetter\n",
        "text_2=sorted(text,key=itemgetter(0))"
      ],
      "metadata": {
        "id": "_SIKD7EeBHFP"
      },
      "execution_count": null,
      "outputs": []
    },
    {
      "cell_type": "code",
      "source": [
        "text_3 = []\n",
        "for i in range(20):\n",
        "  print(text_2[i][4])\n",
        "  text_3.append(text_2[i][4])\n",
        "  print()"
      ],
      "metadata": {
        "colab": {
          "base_uri": "https://localhost:8080/"
        },
        "id": "izFeZpXC8x7i",
        "outputId": "19c771a0-9ac7-41bb-dc04-886359c26c6f"
      },
      "execution_count": null,
      "outputs": [
        {
          "output_type": "stream",
          "name": "stdout",
          "text": [
            "While pursuing new markets and opportunities, \n",
            "we are growing our stable and recurring income \n",
            "from the quality operations and maintenance \n",
            "services provided by Infrastructure Services. \n",
            "\n",
            "\n",
            "Keppel Electric has been the largest electricity \n",
            "retailer in Singapore in terms of market share in \n",
            "the commercial and industrial sector. Following \n",
            "the launch of the Open Electricity Market (OEM) \n",
            "in Singapore, Keppel Electric is also making \n",
            "headway into the housing electricity market. \n",
            "Starting from 1 November 2018, the OEM is \n",
            "being progressively extended to all consumers \n",
            "across Singapore by zones. The response to \n",
            "Keppel Electric’s retail offerings for households \n",
            "has been encouraging, with preliminary \n",
            "results showing that it is among the retailers \n",
            "with the largest market shares in the OEM. \n",
            "\n",
            "\n",
            "Keppel T&T is scaling up its logistics and \n",
            "data centre solutions to tap opportunities \n",
            "created by the fast-growing digital economy. \n",
            "With the burgeoning growth of cloud service \n",
            "providers as well as increasing storage \n",
            "and processing requirements, our data \n",
            "centre business is well positioned to tap \n",
            "growth opportunities. \n",
            "\n",
            "\n",
            "In 2018, we added four new data centre projects \n",
            "across Asia and Europe to our portfolio. This \n",
            "expands our portfolio to 22 data centres with \n",
            "a total value of about $2.7 billion. To further \n",
            "grow its capabilities, Keppel T&T is also \n",
            "exploring innovative solutions such as high-rise \n",
            "green data centres and floating water-cooled \n",
            "data centre parks, which tap Keppel O&M’s \n",
            "expertise in floating infrastructure.\n",
            "\n",
            "\n",
            "Expanding into new markets, we have, \n",
            "through the Alpha Data Centre Fund \n",
            "(Alpha DC Fund) and Keppel Data Centres \n",
            "Holding (KDCH), signed conditional agreements \n",
            "with the Salim Group to jointly develop and \n",
            "operate a high-availability data centre in Bogor, \n",
            "about 35 kilometres from Jakarta. Alpha DC \n",
            "Fund and KDCH have also inked agreements \n",
            "with a leading technology company to develop \n",
            "and operate their first greenfield data centre in \n",
            "Johor, Malaysia. Meanwhile, Keppel Logistics \n",
            "focused on streamlining processes and \n",
            "resources for better cost management while \n",
            "seeking new opportunities in urban logistics. \n",
            "We continued to drive the growth of UrbanFox, \n",
            "our omnichannel logistics and channel \n",
            "management solutions brand. UrbanFox’s \n",
            "customer base has grown significantly, with \n",
            "deliveries doubling over the course of 2018. \n",
            "UrbanFox also plans to launch its integrated \n",
            "channel management in other countries in \n",
            "Southeast Asia, leveraging Keppel’s presence \n",
            "in those markets.\n",
            "\n",
            "\n",
            "Investments \n",
            "2018 was an active year for our \n",
            "Investments Division.\n",
            "\n",
            "\n",
            "Keppel Capital announced acquisitions worth \n",
            "over $2 billion and explored new platforms \n",
            "\n",
            "\n",
            "<image: DeviceCMYK, width: 513, height: 788, bpc: 8>\n",
            "\n",
            "for long-term growth, including expanding \n",
            "into new markets and asset classes, \n",
            "focusing on areas which harness the \n",
            "capabilities of the Keppel Group. \n",
            "\n",
            "\n",
            "With a view to tapping opportunities in \n",
            "the fast-growing senior living market, \n",
            "Keppel Capital entered into a conditional \n",
            "equity purchase agreement to acquire a \n",
            "50% stake in leading US senior living operator, \n",
            "Watermark Retirement Communities. It has \n",
            "also signed Memoranda of Understanding \n",
            "(MOUs) to establish new private funds to \n",
            "invest in education real estate, and retail \n",
            "properties in Australia. \n",
            "\n",
            "\n",
            "Our listed REITs and Trust have also \n",
            "been expanding their portfolios. In Australia, \n",
            "Keppel DC REIT is enlarging its data centre \n",
            "footprint with a new shell and core data \n",
            "centre, to be built in the Macquarie Business \n",
            "Park precinct in Sydney. In the US, Keppel-\n",
            "KBS US REIT continued to capture strong \n",
            "leasing demand from the technology and \n",
            "professional services sectors in Seattle. \n",
            "Keppel Infrastructure Trust has completed \n",
            "its acquisition of a 100% interest in Ixom, \n",
            "\n",
            "\n",
            "2\n",
            "\n",
            "\n",
            "Keppel Corporation Limited Report to Shareholders 2018   \n",
            "   13\n",
            "\n",
            "\n",
            "which is among the leading industrial \n",
            "infrastructure businesses in Australia and \n",
            "New Zealand, supplying and distributing \n",
            "water treatment chemicals, as well as \n",
            "industrial and specialty chemicals. \n",
            "\n",
            "\n",
            "2018 also marked the 10th anniversary \n",
            "of the Sino-Singapore Tianjin Eco-City, \n",
            "a flagship government-to-government \n",
            "project between China and Singapore. \n",
            "With the Eco-City’s growing maturity, \n",
            "we are seeing increasing demand for \n",
            "homes and land in the city. Our joint venture, \n",
            "the Sino-Singapore Tianjin Eco-City \n",
            "Investment and Development Co., Ltd., \n",
            "sold three residential land plots for \n",
            "RMB 3.4 billion in 2018, one of which \n",
            "was acquired by Keppel Land to tap the \n",
            "healthy demand for its green homes in \n",
            "the Eco-City.\n",
            "\n",
            "\n",
            "Leveraging the Group’s strong track record \n",
            "in master development, Keppel Urban \n",
            "Solutions (KUS) continues to make good \n",
            "progress in its pilot project, the 64-hectare \n",
            "Saigon Sports City in HCMC, which is \n",
            "being developed in collaboration with \n",
            "\n",
            "\n",
            "Keppel Land expanded \n",
            "its presence in China \n",
            "in 2018 entering a new \n",
            "market with a residential \n",
            "land plot in Nanjing. \n",
            "\n",
            "\n",
            "Keppel O&M’s proprietary \n",
            "RigCare Solution, \n",
            "implemented for the \n",
            "first time on Cantarell IV, \n",
            "will enhance the efficiency, \n",
            "safety and operability of \n",
            "the jackup rig.\n",
            "\n",
            "\n",
            "1\n",
            "\n",
            "\n",
            "2\n",
            "\n",
            "\n"
          ]
        }
      ]
    },
    {
      "cell_type": "code",
      "source": [
        "import pandas as pd\n",
        "\n",
        "new_list = text_3#[[\"first\", \"second\"], [\"third\", \"four\"], [\"five\", \"six\"]]\n",
        "df = pd.DataFrame(new_list)\n",
        "writer = pd.ExcelWriter('text_file.xlsx', engine='xlsxwriter')\n",
        "df.to_excel(writer, header=False, index=False)#, sheet_name='welcome', index=False)\n",
        "writer.save()"
      ],
      "metadata": {
        "id": "nZuQvRdJ-DAM"
      },
      "execution_count": null,
      "outputs": []
    }
  ]
}